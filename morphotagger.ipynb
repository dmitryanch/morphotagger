{
 "cells": [
  {
   "cell_type": "code",
   "execution_count": 3,
   "metadata": {
    "collapsed": false
   },
   "outputs": [],
   "source": [
    "%matplotlib inline\n",
    "import numpy as np\n",
    "import matplotlib.pyplot as plt\n",
    "import seaborn as sns\n",
    "sns.set_style(\"dark\")\n",
    "plt.rcParams['figure.figsize'] = 16, 12\n",
    "from tqdm import tqdm_notebook\n",
    "import pandas as pd\n",
    "from collections import defaultdict\n",
    "import re\n",
    "from scipy import sparse \n",
    "\n",
    "# поменяйте на свой путь\n",
    "DS_FILE_NAME_test = r'C:\\Users\\DEXP\\Documents\\Semantix\\dict.opcorpora.txt\\test.txt'\n",
    "DS_FILE_NAME = r'C:\\Users\\DEXP\\Documents\\Semantix\\dict.opcorpora.txt\\dict.opcorpora.txt'"
   ]
  },
  {
   "cell_type": "code",
   "execution_count": 36,
   "metadata": {
    "collapsed": true
   },
   "outputs": [],
   "source": [
    "def encodeSparse(word, vectorLength, symbols, symbolsLength):\n",
    "    vector = np.zeros((vectorLength, 1))\n",
    "    wordLength = len(word)\n",
    "    for i in range(0, wordLength):\n",
    "        symbol = symbols.index(word[i])\n",
    "        vector[symbol + symbolsLength*i + symbolsLength*wordLength*(wordLength-1)/2] = 1\n",
    "    return sparse.coo_matrix(vector)"
   ]
  },
  {
   "cell_type": "code",
   "execution_count": 16,
   "metadata": {
    "collapsed": false
   },
   "outputs": [
    {
     "name": "stdout",
     "output_type": "stream",
     "text": [
      "\n",
      " classes number: 4618\n",
      "symbols number: 46\n",
      "words number: 3039479\n",
      "words with classes number: 3039479\n"
     ]
    }
   ],
   "source": [
    "lengthLongestWord = 37\n",
    "lengthShortestWord = 1\n",
    "lengthSymbols = 46\n",
    "vectorLength = lengthSymbols*(lengthShortestWord + lengthLongestWord)/2 * (lengthLongestWord - lengthShortestWord + 1)\n",
    "\n",
    "with open(DS_FILE_NAME, 'r') as f:            \n",
    "            classes = {}\n",
    "            words = {}\n",
    "            symbols = set([])\n",
    "            wordToClass = {}\n",
    "            # прогуляемся по строкам файла\n",
    "            for line in tqdm_notebook(f, mininterval=1):\n",
    "                pair = line.strip().split('\\t')\n",
    "                if len(pair)<=1:\n",
    "                    continue\n",
    "                word, signs = pair[0].decode('utf-8'), re.split(' |,',pair[1])\n",
    "                #print len(pair)\n",
    "                symbols = symbols.union(set(word))\n",
    "                pos = signs[0]\n",
    "                #print word +' - ' + pos+' - ' + ','.join(sorted(set(signs[1:])))\n",
    "                #print pos\n",
    "                wholeclass = pos +',' + ','.join(sorted(set(signs[1:])))\n",
    "                #print wholeclass\n",
    "                if word not in words:\n",
    "                    words[word] = len(words)\n",
    "                if wholeclass not in classes:\n",
    "                    classes[wholeclass] = len(classes)\n",
    "                if word not in wordToClass:\n",
    "                    arr = [wholeclass]\n",
    "                    wordToClass[word] = arr\n",
    "                else:\n",
    "                    arr = wordToClass[word]\n",
    "                    arr.append(wholeclass)\n",
    "                    wordToClass[word] = arr\n",
    "                    \n",
    "            print 'classes number: ' + str(len(classes))\n",
    "            print 'symbols number: ' + str(len(list(symbols)))\n",
    "            print 'words number: ' + str(len(list(words)))\n",
    "            print 'words with classes number: ' + str(len(list(wordToClass)))\n",
    "            listSym = list(symbols)\n",
    "            listSymblosLength=len(listSym)"
   ]
  },
  {
   "cell_type": "code",
   "execution_count": 75,
   "metadata": {
    "collapsed": false
   },
   "outputs": [
    {
     "name": "stdout",
     "output_type": "stream",
     "text": [
      "',-,0,1,2,3,4,5,6,7,8,9,Ё,А,Б,В,Г,Д,Е,Ж,З,И,Й,К,Л,М,Н,О,П,Р,С,Т,У,Ф,Х,Ц,Ч,Ш,Щ,Ъ,Ы,Ь,Э,Ю,Я,’\n"
     ]
    }
   ],
   "source": [
    "print \",\".join(sorted(list(symbols)))"
   ]
  },
  {
   "cell_type": "code",
   "execution_count": 76,
   "metadata": {
    "collapsed": false
   },
   "outputs": [
    {
     "name": "stdout",
     "output_type": "stream",
     "text": [
      "Longest word: НЕЧЕРНОЗЕМАГРОСПЕЦПРОМ-МОНТАЖНАЛАДКОЙ\n",
      "Length of longest word: 37\n"
     ]
    }
   ],
   "source": [
    "longestWord =  max(words.keys(), key=len)\n",
    "print 'Longest word: ' + longestWord\n",
    "print 'Length of longest word: ' + str(len(longestWord))"
   ]
  },
  {
   "cell_type": "code",
   "execution_count": 78,
   "metadata": {
    "collapsed": false
   },
   "outputs": [
    {
     "name": "stdout",
     "output_type": "stream",
     "text": [
      "Shortest word: З\n",
      "Length of shortest word: 1\n"
     ]
    }
   ],
   "source": [
    "shortestWord =  min(words.keys(), key=len)\n",
    "print 'Shortest word: ' + shortestWord\n",
    "print 'Length of shortest word: ' + str(len(shortestWord))"
   ]
  },
  {
   "cell_type": "code",
   "execution_count": 17,
   "metadata": {
    "collapsed": false
   },
   "outputs": [
    {
     "name": "stdout",
     "output_type": "stream",
     "text": [
      "  (18, 0)\t1.0\n",
      "  (72, 0)\t1.0\n",
      "  (80, 0)\t1.0\n",
      "  (187, 0)\t1.0\n",
      "  (357, 0)\t1.0\n"
     ]
    }
   ],
   "source": [
    "# Sample\n",
    "listSym = list(symbols)\n",
    "x = encodeSparse((u'слово').upper(), vectorLength, listSym)\n",
    "print x"
   ]
  },
  {
   "cell_type": "code",
   "execution_count": 104,
   "metadata": {
    "collapsed": false
   },
   "outputs": [
    {
     "name": "stdout",
     "output_type": "stream",
     "text": [
      "  (18, 0)\t1.0\n",
      "  (72, 0)\t1.0\n",
      "  (80, 0)\t1.0\n",
      "  (187, 0)\t1.0\n",
      "  (357, 0)\t1.0\n"
     ]
    }
   ],
   "source": [
    "y = encodeSparse((u'слово').upper(), vectorLength, listSym)\n",
    "print y"
   ]
  },
  {
   "cell_type": "code",
   "execution_count": 10,
   "metadata": {
    "collapsed": false
   },
   "outputs": [
    {
     "data": {
      "text/plain": [
       "465"
      ]
     },
     "execution_count": 10,
     "metadata": {},
     "output_type": "execute_result"
    }
   ],
   "source": [
    "\n",
    "classes[wordToClass[u'СЛОВО'][0]]"
   ]
  },
  {
   "cell_type": "code",
   "execution_count": null,
   "metadata": {
    "collapsed": false
   },
   "outputs": [],
   "source": [
    "X=[]\n",
    "yLength=len(wordToClass)\n",
    "Y=[]#np.zeros((yLength, len(classes)))\n",
    "for key in wordToClass:\n",
    "    x = encodeSparse(key, vectorLength, listSym, listSymblosLength)\n",
    "    X.append(x)\n",
    "    y = np.zeros((yLength, 1))\n",
    "    wordClasses = wordToClass[key]\n",
    "    for gramem in wordClasses:\n",
    "        y[classes[gramem]] = 1\n",
    "    Y.append(sparse.coo_matrix(y))\n",
    "        \n",
    "    "
   ]
  },
  {
   "cell_type": "code",
   "execution_count": null,
   "metadata": {
    "collapsed": false
   },
   "outputs": [],
   "source": []
  },
  {
   "cell_type": "code",
   "execution_count": null,
   "metadata": {
    "collapsed": false
   },
   "outputs": [],
   "source": []
  },
  {
   "cell_type": "code",
   "execution_count": null,
   "metadata": {
    "collapsed": false
   },
   "outputs": [],
   "source": []
  },
  {
   "cell_type": "markdown",
   "metadata": {},
   "source": [
    "# todo сделать кодирование слов числовыми признаками где position буквы - это набор бинарных признаков типа \"индекс-длина_слова\". Сами буквы кодировать бинарными признаками-тройками типа \"буква-индекс-длина_слова\". В таком случае бинарных признаков будет порядка: 50х(1+37)/2*38=36100. Написать формулу для кодирования произвольного слова в вектор признаков"
   ]
  },
  {
   "cell_type": "code",
   "execution_count": 67,
   "metadata": {
    "collapsed": false
   },
   "outputs": [],
   "source": []
  },
  {
   "cell_type": "code",
   "execution_count": 55,
   "metadata": {
    "collapsed": false
   },
   "outputs": [],
   "source": []
  },
  {
   "cell_type": "code",
   "execution_count": null,
   "metadata": {
    "collapsed": false
   },
   "outputs": [],
   "source": []
  },
  {
   "cell_type": "code",
   "execution_count": null,
   "metadata": {
    "collapsed": false
   },
   "outputs": [],
   "source": []
  },
  {
   "cell_type": "code",
   "execution_count": null,
   "metadata": {
    "collapsed": false
   },
   "outputs": [],
   "source": []
  },
  {
   "cell_type": "code",
   "execution_count": null,
   "metadata": {
    "collapsed": false
   },
   "outputs": [],
   "source": []
  },
  {
   "cell_type": "code",
   "execution_count": null,
   "metadata": {
    "collapsed": true
   },
   "outputs": [],
   "source": []
  },
  {
   "cell_type": "code",
   "execution_count": null,
   "metadata": {
    "collapsed": true
   },
   "outputs": [],
   "source": []
  }
 ],
 "metadata": {
  "kernelspec": {
   "display_name": "Python 2",
   "language": "python",
   "name": "python2"
  },
  "language_info": {
   "codemirror_mode": {
    "name": "ipython",
    "version": 2
   },
   "file_extension": ".py",
   "mimetype": "text/x-python",
   "name": "python",
   "nbconvert_exporter": "python",
   "pygments_lexer": "ipython2",
   "version": "2.7.13"
  },
  "widgets": {
   "state": {
    "953898236c8f4b73876a7b1d8b7c37ac": {
     "views": [
      {
       "cell_index": 2
      }
     ]
    }
   },
   "version": "1.2.0"
  }
 },
 "nbformat": 4,
 "nbformat_minor": 2
}
